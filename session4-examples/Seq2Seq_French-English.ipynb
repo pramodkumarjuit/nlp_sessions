{
 "cells": [
  {
   "cell_type": "markdown",
   "id": "85bfab32",
   "metadata": {},
   "source": [
    "## This is a Freanch to English transalator Model using Seq2Seq.\n",
    "\n",
    "1. The encoder summarizes a French sentence as a context vector c.\n",
    "2. Decoder predicts English sentence (which may have the sequence of length n)\n",
    "   using the generated context c.\n"
   ]
  },
  {
   "cell_type": "code",
   "execution_count": 4,
   "id": "91579ed7",
   "metadata": {},
   "outputs": [],
   "source": [
    "# !pip install torch==1.13.1 torchtext==0.14.1\n",
    "# !pip install numpy nltk\n",
    "# !wget http://www.manythings.org/anki/fra-eng.zip\n",
    "# !unzip fra-eng.zip -d fra-eng"
   ]
  },
  {
   "cell_type": "code",
   "execution_count": 5,
   "id": "81f95df5",
   "metadata": {},
   "outputs": [
    {
     "name": "stdout",
     "output_type": "stream",
     "text": [
      "Go.\tVa !\tCC-BY 2.0 (France) Attribution: tatoeba.org #2877272 (CM) & #1158250 (Wittydev)\r\n",
      "Go.\tMarche.\tCC-BY 2.0 (France) Attribution: tatoeba.org #2877272 (CM) & #8090732 (Micsmithel)\r\n",
      "Go.\tEn route !\tCC-BY 2.0 (France) Attribution: tatoeba.org #2877272 (CM) & #8267435 (felix63)\r\n",
      "Go.\tBouge !\tCC-BY 2.0 (France) Attribution: tatoeba.org #2877272 (CM) & #9022935 (Micsmithel)\r\n",
      "Hi.\tSalut !\tCC-BY 2.0 (France) Attribution: tatoeba.org #538123 (CM) & #509819 (Aiji)\r\n"
     ]
    }
   ],
   "source": [
    "!head -n 5 fra-eng/fra.txt"
   ]
  },
  {
   "cell_type": "code",
   "execution_count": 6,
   "id": "af3378ba",
   "metadata": {},
   "outputs": [
    {
     "name": "stdout",
     "output_type": "stream",
     "text": [
      "227815 fra-eng/fra.txt\r\n"
     ]
    }
   ],
   "source": [
    "!wc -l fra-eng/fra.txt"
   ]
  },
  {
   "cell_type": "code",
   "execution_count": 7,
   "id": "73507d52",
   "metadata": {},
   "outputs": [],
   "source": [
    "from pathlib import Path\n",
    "import numpy as np\n",
    "\n",
    "import nltk\n",
    "import nltk.data\n",
    "\n",
    "import string\n",
    "\n",
    "from torchtext.data.utils import get_tokenizer\n",
    "from torchtext.vocab import build_vocab_from_iterator\n",
    "\n",
    "\n",
    "import torch\n",
    "from torch.utils.data import DataLoader\n",
    "\n",
    "import torch.nn as nn"
   ]
  },
  {
   "cell_type": "code",
   "execution_count": 8,
   "id": "4e46ddce",
   "metadata": {},
   "outputs": [
    {
     "data": {
      "text/plain": [
       "<torch._C.Generator at 0x7fa5925454d0>"
      ]
     },
     "execution_count": 8,
     "metadata": {},
     "output_type": "execute_result"
    }
   ],
   "source": [
    "np.random.seed(42)\n",
    "torch.manual_seed(42)"
   ]
  },
  {
   "cell_type": "code",
   "execution_count": 9,
   "id": "62a07ecd",
   "metadata": {},
   "outputs": [
    {
     "name": "stderr",
     "output_type": "stream",
     "text": [
      "[nltk_data] Downloading package punkt to /home/pramod/nltk_data...\n",
      "[nltk_data]   Package punkt is already up-to-date!\n"
     ]
    },
    {
     "data": {
      "text/plain": [
       "True"
      ]
     },
     "execution_count": 9,
     "metadata": {},
     "output_type": "execute_result"
    }
   ],
   "source": [
    "nltk.download(\"punkt\")"
   ]
  },
  {
   "cell_type": "code",
   "execution_count": 10,
   "id": "9175e885",
   "metadata": {},
   "outputs": [
    {
     "name": "stdout",
     "output_type": "stream",
     "text": [
      "No. of lines in the file: 227815\n"
     ]
    }
   ],
   "source": [
    "pathobj = Path(\"fra-eng/fra.txt\")\n",
    "text_all = pathobj.read_text(encoding=\"utf-8\")\n",
    "lines = text_all.splitlines()\n",
    "print(f'No. of lines in the file: {len(lines)}')"
   ]
  },
  {
   "cell_type": "code",
   "execution_count": 14,
   "id": "80a5cd7f",
   "metadata": {},
   "outputs": [
    {
     "data": {
      "text/plain": [
       "array(['Va !', 'Go.'], dtype='<U349')"
      ]
     },
     "execution_count": 14,
     "metadata": {},
     "output_type": "execute_result"
    }
   ],
   "source": [
    "train_data_raw = [line.split(\"\\t\") for line in lines]\n",
    "# only select column 1 and 0 in the order.\n",
    "# IMP: Keeping in this order will make Frn column then Eng column.\n",
    "train_data_raw = np.array(train_data_raw)[:,[1,0]]\n",
    "# print first row\n",
    "train_data_raw[0]"
   ]
  },
  {
   "cell_type": "markdown",
   "id": "fa82c298",
   "metadata": {},
   "source": [
    "## Note:\n",
    "- Whole data is considered a training data\n",
    "- The text length in the dataset is longer (and includes multiple sentences) in later part. Shuffle entire data."
   ]
  },
  {
   "cell_type": "code",
   "execution_count": 15,
   "id": "22003287",
   "metadata": {},
   "outputs": [
    {
     "data": {
      "text/plain": [
       "array(['Je voulais simplement te rendre heureuse.',\n",
       "       'I just wanted to make you happy.'], dtype='<U349')"
      ]
     },
     "execution_count": 15,
     "metadata": {},
     "output_type": "execute_result"
    }
   ],
   "source": [
    "np.random.shuffle(train_data_raw)\n",
    "train_data_raw[0]"
   ]
  },
  {
   "cell_type": "code",
   "execution_count": 16,
   "id": "2e3777c1",
   "metadata": {},
   "outputs": [],
   "source": [
    "# Punkt tokenizer is alreay downloaded previously\n",
    "tokenizer_en = nltk.data.load(\"tokenizers/punkt/english.pickle\")\n",
    "tokenizer_fr = nltk.data.load(\"tokenizers/punkt/french.pickle\")\n",
    "fr_list = []\n",
    "en_list = []"
   ]
  },
  {
   "cell_type": "code",
   "execution_count": 17,
   "id": "9d400a00",
   "metadata": {},
   "outputs": [],
   "source": [
    "for x in train_data_raw:\n",
    "    x1 = tokenizer_fr.tokenize(x[0])\n",
    "    x2 = tokenizer_en.tokenize(x[1])\n",
    "    # don't use data if it consists of multiple sentences.\n",
    "    # Eng --> No. of sentence == Frn --> No. of sentence\n",
    "    if len(x1) == len(x2):\n",
    "        fr_list += x1\n",
    "        en_list += x2\n",
    "    #Debug code\n",
    "    #    break"
   ]
  },
  {
   "cell_type": "code",
   "execution_count": 18,
   "id": "aabe3f45",
   "metadata": {},
   "outputs": [],
   "source": [
    "train_data = np.column_stack((fr_list, en_list))"
   ]
  },
  {
   "cell_type": "code",
   "execution_count": 19,
   "id": "bbb2f896",
   "metadata": {},
   "outputs": [
    {
     "name": "stdout",
     "output_type": "stream",
     "text": [
      "Eng: ['Je voulais simplement te rendre heureuse.'\n",
      " 'I just wanted to make you happy.'] --> Frn: ['Nous ne pouvons être les deux seules personnes à être en retard.'\n",
      " \"We can't be the only two people who're late.\"]\n"
     ]
    }
   ],
   "source": [
    "print(f'0th: {train_data[0]}')\n",
    "print(f'1st: {train_data[1]}')"
   ]
  },
  {
   "cell_type": "markdown",
   "id": "2250d096",
   "metadata": {},
   "source": [
    "#### Make more clean-up in the dataset"
   ]
  },
  {
   "cell_type": "code",
   "execution_count": 20,
   "id": "4f9c4aef",
   "metadata": {},
   "outputs": [],
   "source": [
    "train_data = np.char.lower(train_data)\n",
    "train_data = np.char.replace(train_data, \"-\", \" \")\n",
    "# Remove all punctuation except \" ' \" (e.g, don't)\n",
    "#     1. Get punctutaion present in string.punctuation\n",
    "#     2. Remove \"'\" from string.punctuation string.\n",
    "for x in string.punctuation.replace(\"'\", \"\"):\n",
    "    train_data = np.char.replace(train_data, x, \"\")"
   ]
  },
  {
   "cell_type": "code",
   "execution_count": 21,
   "id": "6dc1d108",
   "metadata": {},
   "outputs": [
    {
     "data": {
      "text/plain": [
       "array(['je voulais simplement te rendre heureuse',\n",
       "       'i just wanted to make you happy'], dtype='<U250')"
      ]
     },
     "execution_count": 21,
     "metadata": {},
     "output_type": "execute_result"
    }
   ],
   "source": [
    "train_data[0]"
   ]
  },
  {
   "cell_type": "code",
   "execution_count": 22,
   "id": "229b577b",
   "metadata": {},
   "outputs": [],
   "source": [
    "# There are some sentence having << & >>. Remove them as well.\n",
    "for x in \"«»\":\n",
    "    train_data = np.char.replace(train_data, x, \"\")\n",
    "train_data = np.char.strip(train_data)"
   ]
  },
  {
   "cell_type": "code",
   "execution_count": 23,
   "id": "4c81d9bf",
   "metadata": {},
   "outputs": [
    {
     "data": {
      "text/plain": [
       "array(['<start> je voulais simplement te rendre heureuse <end>',\n",
       "       '<start> i just wanted to make you happy <end>'], dtype='<U264')"
      ]
     },
     "execution_count": 23,
     "metadata": {},
     "output_type": "execute_result"
    }
   ],
   "source": [
    "# Add <start> and <end> tokens in string.\n",
    "train_data = np.array([[\" \".join([\"<start>\", x, \"<end>\"]), \" \".join([\"<start>\", y, \"<end>\"])] for x, y in train_data])\n",
    "train_data[0]"
   ]
  },
  {
   "cell_type": "markdown",
   "id": "c9fdeece",
   "metadata": {},
   "source": [
    "<hr>"
   ]
  },
  {
   "attachments": {
    "index_vectorize2.png": {
     "image/png": "[encoded data removed]"
    }
   },
   "cell_type": "markdown",
   "id": "63492189",
   "metadata": {},
   "source": [
    "#### Generate sequence inputs\n",
    "Note: max_word = 10000\n",
    "- Generate vocab for both Eng & Frn\n",
    "- Generate the sequence of word's indices (i.e, tokenize) from text.\n",
    "![index_vectorize2.png](attachment:index_vectorize2.png)"
   ]
  },
  {
   "cell_type": "code",
   "execution_count": 24,
   "id": "3e7bd70f",
   "metadata": {},
   "outputs": [],
   "source": [
    "max_word = 10000\n",
    "\n",
    "# create space-split tokenizer\n",
    "tokenizer = get_tokenizer(None)\n",
    "\n",
    "# define tokenization function\n",
    "def yield_tokens(data):\n",
    "    for text in data:\n",
    "        tokens = tokenizer(text)\n",
    "        yield tokens\n"
   ]
  },
  {
   "cell_type": "code",
   "execution_count": 25,
   "id": "9ab8dd01",
   "metadata": {},
   "outputs": [],
   "source": [
    "# build vocabulary list for French\n",
    "vocab_fr = build_vocab_from_iterator(\n",
    "    yield_tokens(train_data[:,0]),\n",
    "    specials=[\"<unk>\"],\n",
    "    max_tokens=max_word\n",
    ")\n",
    "vocab_fr.set_default_index(vocab_fr[\"<unk>\"])\n"
   ]
  },
  {
   "cell_type": "code",
   "execution_count": 26,
   "id": "e25a7645",
   "metadata": {},
   "outputs": [],
   "source": [
    "# build vocabulary list for English\n",
    "vocab_en = build_vocab_from_iterator(\n",
    "    yield_tokens(train_data[:,1]),\n",
    "    specials=[\"<unk>\"],\n",
    "    max_tokens=max_word\n",
    ")\n",
    "vocab_en.set_default_index(vocab_en[\"<unk>\"])"
   ]
  },
  {
   "cell_type": "code",
   "execution_count": 27,
   "id": "f2cfb685",
   "metadata": {},
   "outputs": [
    {
     "name": "stdout",
     "output_type": "stream",
     "text": [
      "Frn Vocab size: 10000\n"
     ]
    }
   ],
   "source": [
    "print(f'Frn Vocab size: {vocab_fr.__len__()}')"
   ]
  },
  {
   "cell_type": "code",
   "execution_count": 28,
   "id": "63bc66d9",
   "metadata": {},
   "outputs": [
    {
     "name": "stdout",
     "output_type": "stream",
     "text": [
      "Eng Vocab size: 10000\n"
     ]
    }
   ],
   "source": [
    "print(f'Eng Vocab size: {vocab_en.__len__()}')"
   ]
  },
  {
   "cell_type": "code",
   "execution_count": 29,
   "id": "4710e4d2",
   "metadata": {},
   "outputs": [],
   "source": [
    "# The generated token index is 0, 1, ... , vocab_size - 1.\n",
    "# Set vocab_size as a token id in padded positions for both French and English respctively.\n",
    "pad_index_fr = vocab_fr.__len__()\n",
    "vocab_fr.append_token(\"<pad>\")\n",
    "\n",
    "pad_index_en = vocab_en.__len__()\n",
    "vocab_en.append_token(\"<pad>\")"
   ]
  },
  {
   "cell_type": "code",
   "execution_count": 30,
   "id": "df2e3566",
   "metadata": {},
   "outputs": [
    {
     "data": {
      "text/plain": [
       "10000"
      ]
     },
     "execution_count": 30,
     "metadata": {},
     "output_type": "execute_result"
    }
   ],
   "source": [
    "pad_index_fr"
   ]
  },
  {
   "cell_type": "code",
   "execution_count": 31,
   "id": "f856d9f9",
   "metadata": {},
   "outputs": [
    {
     "data": {
      "text/plain": [
       "10000"
      ]
     },
     "execution_count": 31,
     "metadata": {},
     "output_type": "execute_result"
    }
   ],
   "source": [
    "pad_index_en"
   ]
  },
  {
   "cell_type": "code",
   "execution_count": 32,
   "id": "ea28f660",
   "metadata": {},
   "outputs": [],
   "source": [
    "# Get list for index-to-word / word-to-index.\n",
    "itos_fr = vocab_fr.get_itos()\n",
    "stoi_fr = vocab_fr.get_stoi()\n",
    "\n",
    "itos_en = vocab_en.get_itos()\n",
    "stoi_en = vocab_en.get_stoi()"
   ]
  },
  {
   "cell_type": "code",
   "execution_count": 33,
   "id": "ad04e45c",
   "metadata": {},
   "outputs": [
    {
     "data": {
      "text/plain": [
       "'pas'"
      ]
     },
     "execution_count": 33,
     "metadata": {},
     "output_type": "execute_result"
    }
   ],
   "source": [
    "itos_fr[5]"
   ]
  },
  {
   "cell_type": "code",
   "execution_count": 34,
   "id": "a996ec89",
   "metadata": {},
   "outputs": [
    {
     "name": "stdout",
     "output_type": "stream",
     "text": [
      "# of token index in French (source) is 10001.\n",
      "The padded index in French (source) is 10000.\n",
      "=============================================\n",
      "# of token index in English (target) is 10001.\n",
      "The padded index in English (target) is 10000.\n"
     ]
    }
   ],
   "source": [
    "print(\"# of token index in French (source) is {}.\".format(vocab_fr.__len__()))\n",
    "print(\"The padded index in French (source) is {}.\".format(stoi_fr[\"<pad>\"]))\n",
    "print(\"=============================================\")\n",
    "print(\"# of token index in English (target) is {}.\".format(vocab_en.__len__()))\n",
    "print(\"The padded index in English (target) is {}.\".format(stoi_en[\"<pad>\"]))"
   ]
  },
  {
   "cell_type": "code",
   "execution_count": 35,
   "id": "b8e5dbed",
   "metadata": {},
   "outputs": [
    {
     "data": {
      "text/plain": [
       "array(['<start> tom est arrivé en avance <end>',\n",
       "       '<start> tom came early <end>'], dtype='<U264')"
      ]
     },
     "execution_count": 35,
     "metadata": {},
     "output_type": "execute_result"
    }
   ],
   "source": [
    "train_data[22824]"
   ]
  },
  {
   "cell_type": "code",
   "execution_count": 36,
   "id": "757c032a",
   "metadata": {},
   "outputs": [
    {
     "data": {
      "text/plain": [
       "[2, 16, 15, 6, 12, 58, 66, 1]"
      ]
     },
     "execution_count": 36,
     "metadata": {},
     "output_type": "execute_result"
    }
   ],
   "source": [
    "# test\n",
    "test_fr_text = \"<start> est ce que tu sais pourquoi <end>\"\n",
    "vocab_fr(tokenizer(test_fr_text))"
   ]
  },
  {
   "cell_type": "code",
   "execution_count": 37,
   "id": "2ab44615",
   "metadata": {},
   "outputs": [
    {
     "data": {
      "text/plain": [
       "[2, 11, 4, 30, 62, 1]"
      ]
     },
     "execution_count": 37,
     "metadata": {},
     "output_type": "execute_result"
    }
   ],
   "source": [
    "# test\n",
    "test_en_text = \"<start> do you know why <end>\"\n",
    "vocab_en(tokenizer(test_en_text))"
   ]
  },
  {
   "cell_type": "markdown",
   "id": "d4429e84",
   "metadata": {},
   "source": [
    "#### collator function that  is used for pre-processing in data loader.\n",
    "\n",
    "`Important:`\n",
    "- During training, the decoder predicts the next word in target (English) sequence using the current word's sequence (English) and the encoded context of source (French).\n",
    "- Hence, for target (English) sequence, we separate into features (x) and labels (y). In another words, separate target sequence into the sequence iteself (x) and the following label (y).\n",
    "\n",
    "Ex:\n",
    "actual eng token: `[2, 11, 4, 30, 62, 1]`\n",
    "\n",
    "After above mentioned step:\n",
    "\n",
    "x : `[2, 11, 4, 30, 62, 1]`\n",
    "y : `[11, 4, 30, 62, 1, -100]`\n",
    "\n",
    "Note : Here we set -100 as an unknown label id, because PyTorch cross-entropy function (`torch.nn.functional.cross_entropy())` has a property ignore_index which default value is -100."
   ]
  },
  {
   "cell_type": "code",
   "execution_count": 38,
   "id": "a0435f7d",
   "metadata": {},
   "outputs": [],
   "source": [
    "batch_size=64\n",
    "seq_len_fr = 45\n",
    "seq_len_en = 38\n",
    "\n",
    "device = torch.device(\"cuda\" if torch.cuda.is_available() else \"cpu\")\n",
    "\n",
    "def collate_batch(batch):\n",
    "    label_list, feature_source_list, feature_target_list = [], [], []\n",
    "    for text_fr, text_en in batch:\n",
    "        # (1) tokenize to a list of word's indices\n",
    "        tokens_fr = vocab_fr(tokenizer(text_fr))\n",
    "        tokens_en = vocab_en(tokenizer(text_en))\n",
    "        # (2) separate into features and labels in target tokens (English)\n",
    "        y = tokens_en[1:]\n",
    "        y.append(-100)\n",
    "        # (3) limit length to seq_len\n",
    "        y = y[:seq_len_en]\n",
    "        tokens_fr = tokens_fr[:seq_len_fr]\n",
    "        tokens_en = tokens_en[:seq_len_en]\n",
    "        # (4) pad sequence\n",
    "        y += [-100] * (seq_len_en - len(y))\n",
    "        tokens_fr += [pad_index_fr] * (seq_len_fr - len(tokens_fr))\n",
    "        tokens_en += [pad_index_en] * (seq_len_en - len(tokens_en))\n",
    "        # add to list\n",
    "        label_list.append(y)\n",
    "        feature_source_list.append(tokens_fr)\n",
    "        feature_target_list.append(tokens_en)\n",
    "    # convert to tensor\n",
    "    label_list = torch.tensor(label_list, dtype=torch.int64).to(device)\n",
    "    feature_source_list = torch.tensor(feature_source_list, dtype=torch.int64).to(device)\n",
    "    feature_target_list = torch.tensor(feature_target_list, dtype=torch.int64).to(device)\n",
    "    return label_list, feature_source_list, feature_target_list\n",
    "\n",
    "# train_data: ['French sentence', 'English sentence']\n",
    "dataloader = DataLoader(\n",
    "    list(zip(train_data[:,0], train_data[:,1])),\n",
    "    batch_size=batch_size,\n",
    "    shuffle=True,\n",
    "    collate_fn=collate_batch\n",
    ")"
   ]
  },
  {
   "cell_type": "code",
   "execution_count": 39,
   "id": "67b29df1",
   "metadata": {},
   "outputs": [
    {
     "data": {
      "text/plain": [
       "array(['<start> je voulais simplement te rendre heureuse <end>',\n",
       "       '<start> nous ne pouvons être les deux seules personnes à être en retard <end>',\n",
       "       '<start> je sais que tom était malade <end>', ...,\n",
       "       '<start> voulez vous un petit déjeuner <end>',\n",
       "       '<start> nous travaillons aussi vite que nous le pouvons <end>',\n",
       "       \"<start> ça a l'air plutôt cher <end>\"], dtype='<U264')"
      ]
     },
     "execution_count": 39,
     "metadata": {},
     "output_type": "execute_result"
    }
   ],
   "source": [
    "train_data[:,0]"
   ]
  },
  {
   "cell_type": "code",
   "execution_count": 40,
   "id": "feaeb4f7",
   "metadata": {},
   "outputs": [
    {
     "name": "stdout",
     "output_type": "stream",
     "text": [
      "label shape in a batch : torch.Size([64, 38])\n",
      "feature source/Frn shape in a batch : torch.Size([64, 45])\n",
      "feature target/Eng shape in a batch : torch.Size([64, 38])\n",
      "\n",
      "***** label sample *****\n",
      "tensor([  41,   39,    4,   33,    6,  412,    1, -100, -100, -100, -100, -100,\n",
      "        -100, -100, -100, -100, -100, -100, -100, -100, -100, -100, -100, -100,\n",
      "        -100, -100, -100, -100, -100, -100, -100, -100, -100, -100, -100, -100,\n",
      "        -100, -100])\n",
      "\n",
      "***** features (source) sample *****\n",
      "tensor([    2,    78,    16,    15,     6,    12,    53,   288,    10,   428,\n",
      "            1, 10000, 10000, 10000, 10000, 10000, 10000, 10000, 10000, 10000,\n",
      "        10000, 10000, 10000, 10000, 10000, 10000, 10000, 10000, 10000, 10000,\n",
      "        10000, 10000, 10000, 10000, 10000, 10000, 10000, 10000, 10000, 10000,\n",
      "        10000, 10000, 10000, 10000, 10000])\n",
      "\n",
      "***** features (target) sample *****\n",
      "tensor([    2,    41,    39,     4,    33,     6,   412,     1, 10000, 10000,\n",
      "        10000, 10000, 10000, 10000, 10000, 10000, 10000, 10000, 10000, 10000,\n",
      "        10000, 10000, 10000, 10000, 10000, 10000, 10000, 10000, 10000, 10000,\n",
      "        10000, 10000, 10000, 10000, 10000, 10000, 10000, 10000])\n"
     ]
    }
   ],
   "source": [
    "# test code: Notice the 'break'\n",
    "for labels, sources, targets in dataloader:\n",
    "    break\n",
    "\n",
    "print(\"label shape in a batch : {}\".format(labels.size()))\n",
    "print(\"feature source/Frn shape in a batch : {}\".format(sources.size()))\n",
    "print(\"feature target/Eng shape in a batch : {}\".format(targets.size()))\n",
    "print(\"\\n***** label sample *****\")\n",
    "print(labels[0])\n",
    "print(\"\\n***** features (source) sample *****\")\n",
    "print(sources[0])\n",
    "print(\"\\n***** features (target) sample *****\")\n",
    "print(targets[0])"
   ]
  },
  {
   "cell_type": "markdown",
   "id": "b42b18c8",
   "metadata": {},
   "source": [
    "<hr>\n",
    "<hr>"
   ]
  },
  {
   "cell_type": "markdown",
   "id": "983191bc",
   "metadata": {},
   "source": [
    "## Build Seq2Seq Model using Encoder and Decoder architecture"
   ]
  },
  {
   "cell_type": "markdown",
   "id": "880cfb68",
   "metadata": {},
   "source": [
    "`(inputs != padding_idx)`\n",
    "-  Gives a binary tensor where each element is 1 if the corresponding element in inputs is not equal to padding_idx and 0 if it is equal to padding_idx.\n",
    "- int(): converts Bool to Int"
   ]
  },
  {
   "cell_type": "markdown",
   "id": "2a8afeb6",
   "metadata": {},
   "source": [
    "### `Encoder`"
   ]
  },
  {
   "cell_type": "code",
   "execution_count": 41,
   "id": "9e09b8f4",
   "metadata": {},
   "outputs": [],
   "source": [
    "embedding_dim = 256\n",
    "hidden_size = 1024 # the number of features in the hidden state h\n",
    "\n",
    "class Encoder(nn.Module):\n",
    "    def __init__(self, vocab_size, embedding_dim, hidden_size, padding_idx):\n",
    "        super().__init__()\n",
    "\n",
    "        self.padding_idx = padding_idx\n",
    "\n",
    "        self.embedding = nn.Embedding(\n",
    "            vocab_size,\n",
    "            embedding_dim,\n",
    "            padding_idx=padding_idx,\n",
    "        )\n",
    "        self.rnn = nn.GRU(\n",
    "            input_size=embedding_dim,\n",
    "            hidden_size=hidden_size,\n",
    "            num_layers=1,\n",
    "            batch_first=True,\n",
    "        )\n",
    "\n",
    "    def forward(self, inputs):\n",
    "        # embedding\n",
    "        #   --> (batch_size, seq_len, embedding_dim)\n",
    "        outs = self.embedding(inputs)\n",
    "        # build \"lengths\" property to pack inputs\n",
    "        lengths = (inputs != self.padding_idx).int().sum(dim=1, keepdim=False)\n",
    "        # pack inputs for RNN\n",
    "        #    It removes padding elements from sequences, making computations faster\n",
    "        #    and avoiding unnecessary calculations on padding tokens.\n",
    "        packed_inputs = torch.nn.utils.rnn.pack_padded_sequence(\n",
    "            outs, # padded batch of variable length sequences\n",
    "            lengths.cpu(), #list of sequence lengths of each batch element (must be on the CPU if provided as a tensor).\n",
    "            batch_first=True,\n",
    "            enforce_sorted=False,\n",
    "        )\n",
    "        # apply RNN\n",
    "        _, final_hidden_state = self.rnn(packed_inputs)\n",
    "        # (1, batch_size, final_hidden_state) --> (batch_size, final_hidden_state)\n",
    "        final_hidden_state = final_hidden_state.squeeze(dim=0)\n",
    "        # return results\n",
    "        return final_hidden_state\n",
    "\n",
    "enc_model = Encoder(\n",
    "    vocab_size=vocab_fr.__len__(),\n",
    "    embedding_dim=embedding_dim,\n",
    "    hidden_size=hidden_size,\n",
    "    padding_idx=pad_index_fr).to(device)"
   ]
  },
  {
   "cell_type": "markdown",
   "id": "84dd6b52",
   "metadata": {},
   "source": [
    "<hr>"
   ]
  },
  {
   "attachments": {
    "machine_translation.png": {
     "image/png": "[encoded data removed]"
    }
   },
   "cell_type": "markdown",
   "id": "8602eb6b",
   "metadata": {},
   "source": [
    "### `Decoder`\n",
    "- Encoder's final output (context) is concatenated with word's embedding vectors in current target (English).\n",
    "- The concatenated vector is then passed into Decoder's RNN. The output of RNN is then passed into linear (fully-connected network) and it generates the next word's logits.\n",
    "- Calculate loss between predicted next words and the true values of next words, and then proceed to optimize neural networks.\n",
    "![machine_translation.png](attachment:machine_translation.png)\n",
    "\n",
    "-  When using packed sequences or variable-length sequences in the decoder's RNN input, it's common to concatenate the encoder's output (context vector) with the input at each decoding step"
   ]
  },
  {
   "cell_type": "code",
   "execution_count": 42,
   "id": "e9fd73cf",
   "metadata": {},
   "outputs": [],
   "source": [
    "class Decoder(nn.Module):\n",
    "    def __init__(self, vocab_size, seq_len, embedding_dim,\\\n",
    "                 hidden_size, padding_idx, ofm_linear=1024):\n",
    "        super().__init__()\n",
    "\n",
    "        self.seq_len = seq_len\n",
    "        self.padding_idx = padding_idx\n",
    "\n",
    "        self.embedding = nn.Embedding(\n",
    "            vocab_size,\n",
    "            embedding_dim,\n",
    "            padding_idx=padding_idx,\n",
    "        )\n",
    "        self.rnn = nn.GRU(\n",
    "            input_size=embedding_dim + hidden_size,\n",
    "            hidden_size=hidden_size,\n",
    "            num_layers=1,\n",
    "            batch_first=True,\n",
    "        )\n",
    "        self.hidden = nn.Linear(in_features=hidden_size, out_features=ofm_linear)\n",
    "        self.classify = nn.Linear(ofm_linear, vocab_size)\n",
    "        self.relu = nn.ReLU()\n",
    "\n",
    "    def forward(self, inputs, enc_outputs, states=None, return_final_state=False):\n",
    "        # embedding\n",
    "        #   --> (batch_size, seq_len, embedding_dim)\n",
    "        outs = self.embedding(inputs)\n",
    "        # convert the shape of enc_outputs :\n",
    "        # (batch_size, hidden_size) --> (batch_size, 1, hidden_size)\n",
    "        enc_outputs = enc_outputs.unsqueeze(dim=1)\n",
    "        # (batch_size, hidden_size) --> (batch_size, seq_len, hidden_size)\n",
    "        enc_outputs = enc_outputs.expand(-1, self.seq_len, -1)\n",
    "        # concat encoder's output\n",
    "        #   --> (batch_size, seq_len, embedding_dim + hidden_size)\n",
    "        outs = torch.concat((outs, enc_outputs), dim=-1)\n",
    "        # build \"lengths\" property to pack inputs (see above)\n",
    "        lengths = (inputs != self.padding_idx).int().sum(dim=1, keepdim=False)\n",
    "        # pack inputs for RNN\n",
    "        packed_inputs = torch.nn.utils.rnn.pack_padded_sequence(\n",
    "            outs,\n",
    "            lengths.cpu(),\n",
    "            batch_first=True,\n",
    "            enforce_sorted=False,\n",
    "        )\n",
    "        # apply RNN\n",
    "        if states is None:\n",
    "            packed_outs, final_state = self.rnn(packed_inputs)\n",
    "        else:\n",
    "            packed_outs, final_state = self.rnn(packed_inputs, states)\n",
    "        # unpack results\n",
    "        #   --> (batch_size, seq_len, hidden_size)\n",
    "        outs, _ = torch.nn.utils.rnn.pad_packed_sequence(\n",
    "            packed_outs,\n",
    "            batch_first=True,\n",
    "            padding_value=0.0,\n",
    "            total_length=self.seq_len,\n",
    "        )\n",
    "        # apply feed-forward (hidden)\n",
    "        #   --> (batch_size, seq_len, ofm_linear)\n",
    "        outs = self.hidden(outs)\n",
    "        outs = self.relu(outs)\n",
    "        # apply feed-forward to classify\n",
    "        #   --> (batch_size, seq_len, vocab_size)\n",
    "        logits = self.classify(outs)\n",
    "        # return results\n",
    "        if return_final_state:\n",
    "            return logits, final_state  # This is used in prediction\n",
    "        else:\n",
    "            return logits               # This is used in training\n",
    "\n",
    "dec_model = Decoder(\n",
    "    vocab_size=vocab_en.__len__(),\n",
    "    seq_len=seq_len_en,\n",
    "    embedding_dim=embedding_dim,\n",
    "    hidden_size=hidden_size,\n",
    "    padding_idx=pad_index_en).to(device)"
   ]
  },
  {
   "cell_type": "markdown",
   "id": "8f7f41f4",
   "metadata": {},
   "source": [
    "### `Training Loop`\n",
    "- The loss on label id=-100 is ignored in cross_entropy() function. The padded position and the end of sequence will then be ignored in optimization."
   ]
  },
  {
   "cell_type": "code",
   "execution_count": 48,
   "id": "60540ed9",
   "metadata": {},
   "outputs": [
    {
     "name": "stdout",
     "output_type": "stream",
     "text": [
      "Epoch 1 - loss: 1.8055 - accuracy: 0.6475\n"
     ]
    }
   ],
   "source": [
    "from torch.nn import functional as F\n",
    "\n",
    "num_epochs = 1 #5\n",
    "\n",
    "all_params = list(enc_model.parameters()) + list(dec_model.parameters())\n",
    "optimizer = torch.optim.AdamW(all_params, lr=0.001)\n",
    "\n",
    "for epoch in range(num_epochs):\n",
    "    for labels, sources, targets in dataloader:\n",
    "        optimizer.zero_grad()\n",
    "        # get output from Encoder\n",
    "        enc_outputs = enc_model(sources)\n",
    "\n",
    "        # get output from Decoder\n",
    "        logits = dec_model(targets, enc_outputs)\n",
    "\n",
    "        # calculate loss over batch using cross_entropy\n",
    "        loss = F.cross_entropy(logits.transpose(1,2), labels)\n",
    "        # criterion = nn.CrossEntropyLoss()\n",
    "        # loss = criterion(logits.transpose(1,2), labels)\n",
    "\n",
    "        # calculate gradient\n",
    "        loss.backward()\n",
    "        \n",
    "        # update weights\n",
    "        optimizer.step()\n",
    "        \n",
    "        # calculate accuracy\n",
    "        pred_labels = logits.argmax(dim=2)\n",
    "        num_correct = (pred_labels == labels).float().sum()\n",
    "        num_total = (labels != -100).float().sum()\n",
    "        accuracy = num_correct / num_total\n",
    "        print(\"Epoch {} - loss: {:2.4f} - accuracy: {:2.4f}\".format(epoch+1, loss.item(), accuracy), end=\"\\r\")\n",
    "    print(\"\")\n"
   ]
  },
  {
   "cell_type": "markdown",
   "id": "bcce7287",
   "metadata": {},
   "source": [
    "### `Inference`\n",
    "- translate French text to English text with trained model. (All these sentences are not in training set.)\n"
   ]
  },
  {
   "cell_type": "code",
   "execution_count": 49,
   "id": "f55e28f3",
   "metadata": {},
   "outputs": [],
   "source": [
    "end_index_en = stoi_en[\"<end>\"]\n",
    "max_output = 128\n",
    "\n",
    "def translate(sentence):\n",
    "    # preprocess inputs\n",
    "    text_fr = sentence\n",
    "    text_fr = text_fr.lower()\n",
    "    text_fr = \" \".join([\"<start>\", text_fr, \"<end>\"])\n",
    "    text_en = \"<start>\"\n",
    "    _, tokens_fr, tokens_en = collate_batch(list(zip([text_fr], [text_en])))\n",
    "\n",
    "    # process encoder\n",
    "    enc_outputs = enc_model(tokens_fr)\n",
    "\n",
    "    # process decoder\n",
    "    states = None\n",
    "    for loop in range(max_output):\n",
    "        logits, states = dec_model(\n",
    "            tokens_en,\n",
    "            enc_outputs,\n",
    "            states=states,\n",
    "            return_final_state=True)\n",
    "        pred_idx_en = logits[0][0].argmax()\n",
    "        next_word_en = itos_en[pred_idx_en]\n",
    "        text_en += \" \"\n",
    "        text_en += next_word_en\n",
    "        if pred_idx_en.item() == end_index_en:\n",
    "            break\n",
    "        _, _, tokens_en = collate_batch(list(zip([\"<end>\"], [next_word_en])))\n",
    "    return text_en\n"
   ]
  },
  {
   "cell_type": "code",
   "execution_count": 50,
   "id": "f329194e",
   "metadata": {},
   "outputs": [
    {
     "name": "stdout",
     "output_type": "stream",
     "text": [
      "<start> i like the guitar <end>\n",
      "<start> he lives in japan <end>\n",
      "<start> this hat is made by him <end>\n",
      "<start> this is my favorite song <end>\n",
      "<start> he is getting married and new house and new york <end>\n"
     ]
    }
   ],
   "source": [
    "print(translate(\"j'aime la guitare\")) # i like guitar\n",
    "print(translate(\"il vit au japon\")) # he lives in Japan\n",
    "print(translate(\"ce stylo est utilisé par lui\")) # this pen is used by him\n",
    "print(translate(\"c'est ma chanson préférée\")) # that's my favorite song\n",
    "print(translate(\"il conduit une voiture et va à new york\")) # he drives a car and goes to new york"
   ]
  },
  {
   "cell_type": "code",
   "execution_count": null,
   "id": "9242b0b8",
   "metadata": {},
   "outputs": [],
   "source": []
  }
 ],
 "metadata": {
  "kernelspec": {
   "display_name": "Python 3",
   "language": "python",
   "name": "python3"
  },
  "language_info": {
   "codemirror_mode": {
    "name": "ipython",
    "version": 3
   },
   "file_extension": ".py",
   "mimetype": "text/x-python",
   "name": "python",
   "nbconvert_exporter": "python",
   "pygments_lexer": "ipython3",
   "version": "3.10.11"
  }
 },
 "nbformat": 4,
 "nbformat_minor": 5
}
